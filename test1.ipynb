{
 "cells": [
  {
   "cell_type": "code",
   "execution_count": 1,
   "metadata": {},
   "outputs": [],
   "source": [
    "import numpy as np\n",
    "import matplotlib.pyplot as plt"
   ]
  },
  {
   "cell_type": "code",
   "execution_count": null,
   "metadata": {},
   "outputs": [],
   "source": [
    "# Solving tic-tac-toe using tree search\n",
    "# This is a simple implementation of the minimax algorithm\n",
    "\n",
    "# The game is represented as a 3x3 matrix\n",
    "# 0 represents an empty cell\n",
    "# 1 represents a cell with a cross\n",
    "# 2 represents a cell with a circle\n",
    "\n",
    "class TicTacToe:\n",
    "    def __init__(self):\n",
    "        self.board = np.zeros((3, 3), dtype=int)\n",
    "        self.turn = 1\n",
    "        self.winner = 0\n",
    "\n",
    "    def is_full(self):\n",
    "        return np.all(self.board)\n",
    "\n",
    "    def is_winner(self, player):\n",
    "        for i in range(3):\n",
    "            if np.all(self.board[i] == player) or np.all(self.board[:, i] == player):\n",
    "                return True\n",
    "        if np.all(self.board.diagonal() == player) or np.all(np.fliplr(self.board).diagonal() == player):\n",
    "            return True\n",
    "        return False\n",
    "\n",
    "    def is_game_over(self):\n",
    "        for player in [1, 2]:\n",
    "            if self.is_winner(player):\n",
    "                self.winner = player\n",
    "                return True\n",
    "        return self.is_full()\n",
    "\n",
    "    def get_valid_moves(self):\n",
    "        return np.argwhere(self.board == 0)\n",
    "    \n",
    "    def get_valid_moves_indices(self):\n",
    "        return np.flatnonzero(self.board == 0)\n",
    "    \n",
    "\n",
    "    def make_move(self, move):\n",
    "        self.board[tuple(move)] = self.turn\n",
    "        self.turn = 3 - self.turn\n",
    "\n",
    "    def make_move_from_index(self, index):\n",
    "        move = np.unravel_index(index, (3, 3))\n",
    "        self.make_move(move)\n",
    "\n",
    "    def undo_move(self, move):\n",
    "        self.board[tuple(move)] = 0\n",
    "        self.turn = 3 - self.turn\n",
    "\n",
    "    def __str__(self):\n",
    "        return str(self.board)\n"
   ]
  },
  {
   "cell_type": "code",
   "execution_count": null,
   "metadata": {},
   "outputs": [],
   "source": [
    "def minimax(game, depth, maximizing_player):\n",
    "    if game.is_game_over():\n",
    "        if game.winner == 1:\n",
    "            return -10 + depth, None\n",
    "        elif game.winner == 2:\n",
    "            return 10 - depth, None\n",
    "        else:\n",
    "            return 0, None\n",
    "\n",
    "    if maximizing_player:\n",
    "        max_eval = -np.inf\n",
    "        best_move = None\n",
    "        for move in game.get_valid_moves():\n",
    "            game.make_move(move)\n",
    "            eval, _ = minimax(game, depth + 1, False)\n",
    "            game.undo_move(move)\n",
    "            if eval > max_eval:\n",
    "                max_eval = eval\n",
    "                best_move = move\n",
    "        return max_eval, best_move\n",
    "    else:\n",
    "        min_eval = np.inf\n",
    "        best_move = None\n",
    "        for move in game.get_valid_moves():\n",
    "            game.make_move(move)\n",
    "            eval, _ = minimax(game, depth + 1, True)\n",
    "            game.undo_move(move)\n",
    "            if eval < min_eval:\n",
    "                min_eval = eval\n",
    "                best_move = move\n",
    "        return min_eval, best_move"
   ]
  },
  {
   "cell_type": "code",
   "execution_count": null,
   "metadata": {},
   "outputs": [],
   "source": [
    "game = TicTacToe()"
   ]
  },
  {
   "cell_type": "code",
   "execution_count": null,
   "metadata": {},
   "outputs": [],
   "source": [
    "game.make_move((0, 1))"
   ]
  },
  {
   "cell_type": "code",
   "execution_count": null,
   "metadata": {},
   "outputs": [],
   "source": [
    "game.get_valid_moves_indices()"
   ]
  },
  {
   "cell_type": "code",
   "execution_count": null,
   "metadata": {},
   "outputs": [],
   "source": []
  }
 ],
 "metadata": {
  "kernelspec": {
   "display_name": "base",
   "language": "python",
   "name": "python3"
  },
  "language_info": {
   "codemirror_mode": {
    "name": "ipython",
    "version": 3
   },
   "file_extension": ".py",
   "mimetype": "text/x-python",
   "name": "python",
   "nbconvert_exporter": "python",
   "pygments_lexer": "ipython3",
   "version": "3.11.3"
  }
 },
 "nbformat": 4,
 "nbformat_minor": 2
}
